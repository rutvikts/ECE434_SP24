{
 "cells": [
  {
   "cell_type": "markdown",
   "metadata": {},
   "source": [
    "# ECE/CS 434 | MP1: Visualizing Data\n",
    "<br />\n",
    "<nav>\n",
    "    <span class=\"alert alert-block alert-warning\">Due on Monday Feb 5th 11:59PM on Gradescope</span> \n",
    "</nav><br> \n",
    "\n",
    " "
   ]
  },
  {
   "cell_type": "markdown",
   "metadata": {},
   "source": [
    "## Objective\n",
    "The goal of this MP is for you to become familiar with sensor data collected from mobile phones. We will work with accelerometer data, microphone recordings and Wi-Fi RSSI. The data provided to you will be relevant to future MPs, so hopefully this will give you a head start. After completing this MP, you should be able to:\n",
    "- Quickly visualize readings from various mobile phone sensors.\n",
    "- Interpret various aspects of sensor data from plots."
   ]
  },
  {
   "cell_type": "markdown",
   "metadata": {},
   "source": [
    "---\n",
    "## Imports & Setup\n",
    "The following `code` cell, when run, imports the libraries that you will require for the coding part of this MP. The use of other standard libraries is allowed but uneeded."
   ]
  },
  {
   "cell_type": "code",
   "execution_count": null,
   "metadata": {},
   "outputs": [],
   "source": [
    "import numpy as np\n",
    "import pandas as pd\n",
    "import matplotlib.pyplot as plt"
   ]
  },
  {
   "cell_type": "markdown",
   "metadata": {},
   "source": [
    "---\n",
    "## Accelerometer\n",
    "Three sets of accelerometer data are provided to you in `accl/*.csv` files. For each file, there are three columns, representing the accelerometer readings in three local axes x, y and z (in that order) (unit: $m / s^{2}$). Please refer to [this](https://www.mathworks.com/help/supportpkg/android/ref/simulinkandroidsupportpackage_galaxys4_accelerometer.png) for the defination of axes. The accelerometer is sampled at $100\\text{ Hz}$. "
   ]
  },
  {
   "cell_type": "markdown",
   "metadata": {},
   "source": [
    "#### Exercise 1\n",
    "For each set of data (CSV file), plot the accelerometer readings over time. Clearly label the x and y axes of the plot, and create a legend indicating what local axes (x, y, or z) each line in your plot corresponds to. For each set of readings, you may instead use different subplots for different accelerometer axes,  if you find that more readable.\n",
    "\n",
    "Please enter your solution in the `code` cell below:"
   ]
  },
  {
   "cell_type": "code",
   "execution_count": null,
   "metadata": {},
   "outputs": [],
   "source": [
    "# Exercise 1 code here:\n"
   ]
  },
  {
   "cell_type": "markdown",
   "metadata": {},
   "source": [
    "#### Exercise 2:\n",
    "The accelerometer readings were collected under three circumstances: \n",
    "<ol type=\"A\">\n",
    "  <li>Senario A: walking with phone in pant pocket</li>\n",
    "  <li>Senario B: walking with phone held in the hand statically as if the user is looking at it while walking</li>\n",
    "  <li>Senario C: walking with phone in hand and the hand swinging</li>\n",
    "</ol>\n",
    "\n",
    "Carefully observe the graphs from Exercise 1 and identify which scenario each corresponds to. \n",
    "\n",
    "<div class=\"alert alert-block alert-info\"><b>Hint:</b> When phone is held statically in the hand, the local y axis is relatively aligned with the walking direction. Acceleration in which direction is relatively small? When phone is in hand and the hand is swinging, the local z axis is perpendicular to your palm. Acceleration in which direction is relatively small? </div>\n",
    "\n",
    "Please enter your answer in the `markdown` cell below: "
   ]
  },
  {
   "cell_type": "markdown",
   "metadata": {},
   "source": [
    "**Exercise 2 Answer**:\n",
    "* Data `a.csv` is for: ____\n",
    "* Data `b.csv` is for: ____\n",
    "* Data `c.csv` is for: ____"
   ]
  },
  {
   "cell_type": "markdown",
   "metadata": {},
   "source": [
    "#### Exercise 3\n",
    "\n",
    "For the senario B (phone held static) in the exercise above, what is the final velocity of the phone in the y direction? Assume that the initial velocity is $0$, and that the phone orientation is unchanged throughout the process.\n",
    "\n",
    "<div class=\"alert alert-block alert-info\"><b>Hint:</b> You will need to perform integration. </div>\n",
    "\n",
    "Please enter your solution in the `code` cell below."
   ]
  },
  {
   "cell_type": "code",
   "execution_count": null,
   "metadata": {},
   "outputs": [],
   "source": [
    "# Exercise 3 code here:\n",
    "\n",
    "# print(\"The final velocity of the phone in the y direction is: \", ____ )"
   ]
  },
  {
   "cell_type": "markdown",
   "metadata": {},
   "source": [
    "#### Exercise 4\n",
    "\n",
    "Typical walking speed is $1.5\\frac{m}{s}$. What causes the discrepancy between this expected speed and your result in Exercise 3?\n",
    "\n",
    "Please enter your answer in the `markdown` cell below: "
   ]
  },
  {
   "cell_type": "markdown",
   "metadata": {},
   "source": [
    "**Exercise 4 Answer**: ____"
   ]
  },
  {
   "cell_type": "markdown",
   "metadata": {},
   "source": [
    "---\n",
    "## Microphone\n",
    "You are given two microphone recordings from two different microphones on the same device. In `microphone/1.csv`, the first column corresponds to samples collected by the first microphone and the second column corresponds to the second microphone. The sampling rate of the microphones are $16\\text{ kHz}$. "
   ]
  },
  {
   "cell_type": "markdown",
   "metadata": {},
   "source": [
    "#### Exercise 5\n",
    "Plot the microphone recordings over time. Clearly label the x and y axes, and create a legend to indicate which microphone each line corresponds to. Note that it is okay if the lines look like they overlap.\n",
    "\n",
    "Please enter your solution in the `code` cell below."
   ]
  },
  {
   "cell_type": "code",
   "execution_count": null,
   "metadata": {},
   "outputs": [],
   "source": [
    "# Exercise 5 code here:\n"
   ]
  },
  {
   "cell_type": "markdown",
   "metadata": {},
   "source": [
    "#### Exercise 6\n",
    "Zoom in to your plot from Exercise 5. How many samples does mic 1 lag behind mic 2 by? You only need to provide a rough estimate.\n",
    "\n",
    "You may use the optional `code` cell below if you need to plot again. Please enter your answer in the `markdown` cell below: "
   ]
  },
  {
   "cell_type": "code",
   "execution_count": null,
   "metadata": {},
   "outputs": [],
   "source": [
    "# (Optional) Exercise 6 code here:\n"
   ]
  },
  {
   "cell_type": "markdown",
   "metadata": {},
   "source": [
    "**Exercise 6 Answer**: Mic 1 lags behind Mic 2 by _ samples."
   ]
  },
  {
   "cell_type": "markdown",
   "metadata": {},
   "source": [
    "---\n",
    "## Wi-Fi\n",
    "Wi-Fi RSSI (Received Signal Strength Indicator) is a measurement of how well your device can receive signals from a given access point or router. A user walks around a room that has 3 Wi-Fi access points. You are given the RSSI reading from their smartphone in this format: $(\\text{SSID}, \\text{HH:MM:SS}, \\text{RSSI})$. SSID (Service Set Identifier) is a unique identifier that distinguishes between access points."
   ]
  },
  {
   "cell_type": "markdown",
   "metadata": {},
   "source": [
    "#### Exercise 7\n",
    "For every unique access point, plot the RSSI over time. Clearly label the x and y axes, and create a legend to indicate which access point each line corresponds to. You may create separate graphs if you think that is more readable.\n",
    "\n",
    "Please enter your solution in the `code` cell below."
   ]
  },
  {
   "cell_type": "code",
   "execution_count": null,
   "metadata": {},
   "outputs": [],
   "source": [
    "# Exercise 7 code here:\n"
   ]
  },
  {
   "cell_type": "markdown",
   "metadata": {},
   "source": [
    "#### Exercise 8\n",
    "File `wifi/room.png` shows a layout of the room. The locations of the three Wi-Fi access points are annotated on the figure. Think of a possible **straight-line path** of how the user walked in the room. What are the starting and ending coordinates of this straight-line path? Reading your graph from Exercise 7 and eyeballing to give a rough estimate would suffice.\n",
    "\n",
    "Please enter your answer in the `markdown` cell below:"
   ]
  },
  {
   "cell_type": "markdown",
   "metadata": {},
   "source": [
    "**Exercise 8 Answer**:\n",
    "* Starting coordinates are: ( _ , _ )\n",
    "* Ending coordinates are: ( _ , _ )"
   ]
  },
  {
   "cell_type": "markdown",
   "metadata": {},
   "source": [
    "---\n",
    "## Submission\n",
    "This Jupyter notebook is the only thing you need to submit to Gradescope. Please make sure that:\n",
    "* All graphs and results are outputted and readable.\n",
    "* All short-answer markdown cells are filled in."
   ]
  },
  {
   "cell_type": "markdown",
   "metadata": {},
   "source": [
    "---\n",
    "## Rubric\n",
    "| Exercise | Rubric                                                    | Points       |\n",
    "|---------:|:----------------------------------------------------------|-------------:|\n",
    "| 1        | All 3 accelerometer plots are correct and clearly labeled | $3 \\times 2$ |\n",
    "| 2        | Answer is correct                                         | $3$          |\n",
    "| 3        | Answer is correct                                         | $1$          |\n",
    "| 4        | Answer is correct                                         | $1$          |\n",
    "| 5        | Microphone plot is correct and clearly labeled            | $6$          |\n",
    "| 6        | Answer is correct                                         | $4$          |\n",
    "| 7        | Wi-Fi plot is correct and clearly labeled                 | $6$          |\n",
    "| 8        | Answer is correct                                         | $4$          |"
   ]
  },
  {
   "cell_type": "code",
   "execution_count": null,
   "metadata": {},
   "outputs": [],
   "source": []
  }
 ],
 "metadata": {
  "kernelspec": {
   "display_name": "Python 3",
   "language": "python",
   "name": "python3"
  },
  "language_info": {
   "codemirror_mode": {
    "name": "ipython",
    "version": 3
   },
   "file_extension": ".py",
   "mimetype": "text/x-python",
   "name": "python",
   "nbconvert_exporter": "python",
   "pygments_lexer": "ipython3",
   "version": "3.6.8"
  },
  "toc-autonumbering": false,
  "toc-showcode": false,
  "toc-showmarkdowntxt": false
 },
 "nbformat": 4,
 "nbformat_minor": 4
}
