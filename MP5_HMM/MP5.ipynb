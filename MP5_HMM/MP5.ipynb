{
 "cells": [
  {
   "cell_type": "markdown",
   "metadata": {},
   "source": [
    "# ECE/CS 434 | MP5: HMM\n",
    "<br />\n",
    "<nav>\n",
    "    <span class=\"alert alert-block alert-warning\">Due at 11:59PM Apr 15th 2024 on Gradescope</span>\n",
    "</nav><br> \n",
    " "
   ]
  },
  {
   "cell_type": "markdown",
   "metadata": {},
   "source": [
    "## Objective\n",
    "In this MP, you will:\n",
    "- Explore two fundamental problems that are of interest to Hidden Markov Models (HMM):\n",
    "    - What is the probability of a specific sequence of observations occuring given an HMM?\n",
    "    - What is the optimal hidden state sequence given a sequence of observations and an HMM?\n",
    "- Implement either the forward or backward algorithm to answer the first problem.\n",
    "- Implement the Viterbi algorithm to answer the second problem."
   ]
  },
  {
   "cell_type": "markdown",
   "metadata": {},
   "source": [
    "---\n",
    "## References\n",
    "Material in this MP is adapted from the iconic paper *A Tutorial on Hidden Markov Models and Selected Applications in Speech Recognition* by Lawrence R. Rabiner. You are encouraged to follow the pseudocode in this paper for your implementation.\n",
    "\n",
    "You are highly encouraged to watch [this video](https://www.youtube.com/watch?v=MPeedE6Odj0) by Prof.Patterson from Westmont College before beginning the MP."
   ]
  },
  {
   "cell_type": "markdown",
   "metadata": {},
   "source": [
    "---\n",
    "## Imports & Setup\n",
    "\n",
    "### Installing requirements correctly\n",
    "\n",
    "First. we will make sure that the correct versions of required modules are installed. This ensures that your local Python environment is consistent with the one running on the Gradescope autograder. Just convert the following cell to code and run:\n",
    "\n",
    "<div class=\"alert alert-block alert-info\"><b>Note:</b> It's preferred that your local environment matches the autograder to prevent possible inconsistencies. However, if you're running into annoying Python version issues but haven't had any issues getting consistent results on the autograder, there is no need to stress over it. Just skip for now and come back when you do encounter inconsistencies:) Ditto below.\n",
    "</div>\n",
    "\n",
    "<div class=\"alert alert-block alert-info\"><b>WARNING:</b> ENSURE THE FOLLOWING CELL IS MARKDOWN OR DELETED BEFORE SUBMITTING. THE AUTOGRADER WILL FAIL OTHERWISE.\n",
    "</div>"
   ]
  },
  {
   "cell_type": "markdown",
   "metadata": {},
   "source": [
    "if __name__ == '__main__':\n",
    "    import sys\n",
    "    !{sys.executable} -m pip install -r requirements.txt"
   ]
  },
  {
   "cell_type": "markdown",
   "metadata": {},
   "source": [
    "### Your imports\n",
    "Write your import statements below. If Gradescope reports an error and you believe it is due to an unsupported import, check with the TA to see if it could be added."
   ]
  },
  {
   "cell_type": "code",
   "execution_count": 3,
   "metadata": {},
   "outputs": [],
   "source": [
    "import numpy as np\n",
    "import random\n",
    "import scipy\n",
    "import pandas as pd\n",
    "\n",
    "# This function is used to format test results. You don't need to touch it.\n",
    "def display_table(data):\n",
    "    from IPython.display import HTML, display\n",
    "\n",
    "    html = \"<table>\"\n",
    "    for row in data:\n",
    "        html += \"<tr>\"\n",
    "        for field in row:\n",
    "            html += \"<td><h4>{}</h4><td>\".format(field)\n",
    "        html += \"</tr>\"\n",
    "    html += \"</table>\"\n",
    "    display(HTML(html))"
   ]
  },
  {
   "cell_type": "markdown",
   "metadata": {},
   "source": [
    "---\n",
    "## Constructing an HMM\n",
    "Recall that an HMM consists of three parameters:\n",
    "- $A$, the state transition probability matrix of size $N\\times N$, where $N$ represents the number of hidden states(or true states).\n",
    "- $B$, the observation probability matrix of size $N\\times M$, where $M$ represents the number of observed states.\n",
    "- $\\pi$, an initial distribution vector of size $1\\times N$\n",
    "\n",
    "In this MP, we will be randomly generating these parameters. Run the cell below to see what a model looks like and how to access it. Notice you'll get slightly different numbers each time you run due to the random functions used."
   ]
  },
  {
   "cell_type": "code",
   "execution_count": 4,
   "metadata": {},
   "outputs": [
    {
     "name": "stdout",
     "output_type": "stream",
     "text": [
      "A - State Transition Probability Matrix\n",
      "          0         1         2         3         4\n",
      "0  0.147767  0.584622  0.120454  0.147157  0.000000\n",
      "1  0.000000  0.092351  0.114820  0.143340  0.649489\n",
      "2  0.191453  0.000000  0.242015  0.194810  0.371721\n",
      "3  0.356482  0.000000  0.119409  0.240210  0.283899\n",
      "4  0.000000  0.328541  0.150618  0.227052  0.293789\n",
      "The probability of transitioning from state 2 to state 3 is 0.19481017919637159\n",
      "\n",
      "\n",
      "B - Observation Probability Matrix\n",
      "          0         1         2\n",
      "0  0.444382  0.000000  0.555618\n",
      "1  0.000000  0.192726  0.807274\n",
      "2  0.000000  0.320415  0.679585\n",
      "3  0.799985  0.000000  0.200015\n",
      "4  0.511188  0.000000  0.488812\n",
      "The probability of being in hidden state 1 while observing observable state 2 is 0.807273689014647\n"
     ]
    }
   ],
   "source": [
    "if __name__ == '__main__':\n",
    "    def generate_matrix(R, C, mode):\n",
    "        model = np.zeros((R, C))\n",
    "        for i in range(R):\n",
    "            row = np.zeros(C)\n",
    "            if(mode == 0):\n",
    "                while(row.sum() != 1):\n",
    "                    row = np.random.normal(0, 2, C)\n",
    "                    row = row - row.min()\n",
    "                    row = row / row.sum()\n",
    "            elif(mode == 1):\n",
    "                while(row.sum() != 1):\n",
    "                    row = np.random.dirichlet(np.ones(C),size=1)\n",
    "                    row = row / row.sum()\n",
    "            elif(mode == 2):\n",
    "                while(row.sum() != 1):\n",
    "                    row = np.random.gamma(5, 5, C)\n",
    "                    row = row / row.sum()\n",
    "            model[i] = row\n",
    "        return model\n",
    "\n",
    "    example_model = {'A': generate_matrix(5, 5, 0),\n",
    "                     'B': generate_matrix(5, 3, 0),\n",
    "                     'pi': np.pi}\n",
    "    print('A - State Transition Probability Matrix')\n",
    "    print(pd.DataFrame(example_model['A']))\n",
    "    print('The probability of transitioning from state 2 to state 3 is ' + str(example_model['A'][2][3]))\n",
    "    print('\\n\\nB - Observation Probability Matrix')\n",
    "    print(pd.DataFrame(example_model['B']))\n",
    "    print('The probability of being in hidden state 1 while observing observable state 2 is ' + str(example_model['B'][1][2]))"
   ]
  },
  {
   "cell_type": "markdown",
   "metadata": {},
   "source": [
    "---\n",
    "## Problem 1. Determining the Best Model\n",
    "You are given a sequence of observations, $O$, and a few candidate HMMs, $\\{\\lambda_1=(A_1, B_1, \\pi_1), \\lambda_2=(A_2, B_2, \\pi_2)...\\}$. Your task is to find the model that best describes the sequence of observations. \n",
    "\n",
    "You could approach this problem by calculating $P(O\\mid\\lambda)$ for every $\\lambda$, and returning the index of the model yielding the highest likelihood.\n",
    "\n",
    "<div class=\"alert alert-block alert-info\"><b>Hint:</b> The Forward Algorithm generates a table of size $T\\times N$ where $T$ is the length of the observation sequence. Then, $P(O\\mid\\lambda)$ is essentially the sum of the last row of this table. The Backward Algorithm works similarly. You may choose one to implement.</div>\n",
    "\n",
    "<div class=\"alert alert-block alert-info\"><b>Note:</b> You must use dynamic programming in your implementation. Otherwise, the tests will timeout.</div>\n",
    "\n",
    "Implement your algorithm in the `find_model(O, models)` function below. Do NOT change the function signature. You are, however, free to define and use helper functions."
   ]
  },
  {
   "cell_type": "code",
   "execution_count": 5,
   "metadata": {},
   "outputs": [],
   "source": [
    "def find_model(O, models):\n",
    "    \"\"\"Finds the HMM that is mostly likely to have generated a given sequence of observations\n",
    "    Args:\n",
    "      O: A list of observed states.\n",
    "      models: a list of HMM models. E.x.models[0]['A'] accesses the transition matrix of the first HMM.\n",
    "    Returns: The index corresponding to the best-fit HMM.\n",
    "    \"\"\"\n",
    "    toMax = np.zeros(len(models))\n",
    "    for i in range(len(models)):\n",
    "        alpha = models[i]['pi'] * models[i]['B'][:,O[0]]\n",
    "        for j in range(1,len(O)):\n",
    "            alpha = alpha.T @ models[i]['A']  * models[i]['B'][:,O[j]]\n",
    "        toMax[i] =  np.sum(alpha)\n",
    "    return np.argmax(toMax)"
   ]
  },
  {
   "cell_type": "markdown",
   "metadata": {},
   "source": [
    "### Run & Test\n",
    "Use the cell below to run and test `find_model(O, models)`. "
   ]
  },
  {
   "cell_type": "code",
   "execution_count": 6,
   "metadata": {},
   "outputs": [
    {
     "name": "stdout",
     "output_type": "stream",
     "text": [
      "Running test 0....\n",
      "Running test 1....\n",
      "Running test 2....\n"
     ]
    },
    {
     "data": {
      "text/html": [
       "<table><tr><td><h4>Test</h4><td><td><h4>% of Correct Trials</h4><td><td><h4>Grade</h4><td></tr><tr><td><h4>0</h4><td><td><h4>76.0%</h4><td><td><h4>10 / 10</h4><td></tr><tr><td><h4>1</h4><td><td><h4>78.0%</h4><td><td><h4>10 / 10</h4><td></tr><tr><td><h4>2</h4><td><td><h4>72.0%</h4><td><td><h4>10 / 10</h4><td></tr><tr><td><h4><i>👻 Hidden test 0 👻</i></h4><td><td><h4><i>???</i></h4><td><td><h4><i>???</i> / 10</h4><td></tr><tr><td><h4><i>👻 Hidden test 1 👻</i></h4><td><td><h4><i>???</i></h4><td><td><h4><i>???</i> / 10</h4><td></tr></table>"
      ],
      "text/plain": [
       "<IPython.core.display.HTML object>"
      ]
     },
     "metadata": {},
     "output_type": "display_data"
    }
   ],
   "source": [
    "if __name__ == '__main__':\n",
    "    def test_metadata(N, M, T):\n",
    "        \"\"\"Gathers constants that describes a test\n",
    "        Args:\n",
    "          N: Number of hidden states.\n",
    "          M: Number of observable states.\n",
    "          T: Length of observable sequence.\n",
    "        \"\"\"\n",
    "        return {'N': N, 'M': M, 'T': T}\n",
    "    tests = [test_metadata(N=5, M=3, T=100), \n",
    "             test_metadata(N=10, M=5, T=200),\n",
    "             test_metadata(N=10, M=3, T=300)]    \n",
    "    output = [['Test', '% of Correct Trials', 'Grade']]\n",
    "    for idx, test in enumerate(tests):\n",
    "        print(\"Running test \" + str(idx) + \"....\")\n",
    "        count = 0\n",
    "        for trial in range(50):\n",
    "            # 1. Create Candidate HMMs\n",
    "            models = []\n",
    "            pi = np.ones((test['N']))\n",
    "            pi = pi / pi.sum()\n",
    "            for i in range(3):\n",
    "                models.append({'A': generate_matrix(test['N'], test['N'], i), \n",
    "                               'B': generate_matrix(test['N'], test['M'], i), \n",
    "                               'pi': pi})\n",
    "\n",
    "            # 2. Pick 1 HMM\n",
    "            TRUE_MODEL = random.randint(0,2) \n",
    "\n",
    "            # 3. Create observation based on model\n",
    "            OBS = []\n",
    "            for i in range(test['T']):\n",
    "                cur_h_state = 0\n",
    "                if(i == 0):\n",
    "                    cur_h_state = np.random.choice(np.arange(0, test['N']), p=models[TRUE_MODEL]['pi'])\n",
    "                else:\n",
    "                    cur_h_state = np.random.choice(np.arange(0, test['N']), p=models[TRUE_MODEL]['A'][int(cur_h_state)])\n",
    "                OBS.append(int(np.random.choice(np.arange(0, test['M']), p=models[TRUE_MODEL]['B'][int(cur_h_state)])))\n",
    "\n",
    "            # 3. Test find_model\n",
    "            est_model = find_model(OBS, models)\n",
    "            if(est_model == TRUE_MODEL):\n",
    "                count = count + 1\n",
    "        score = 10 if(count > (50 / len(tests))) else 0\n",
    "        output.append([idx, '{:.1%}'.format(count / 50), \"{:0.0f} / 10\".format(score)])  \n",
    "    output.append(['<i>👻 Hidden test 0 👻</i>','<i>???</i>', '<i>???</i> / 10'])\n",
    "    output.append(['<i>👻 Hidden test 1 👻</i>','<i>???</i>', '<i>???</i> / 10'])\n",
    "    display_table(output)"
   ]
  },
  {
   "cell_type": "markdown",
   "metadata": {},
   "source": [
    "---\n",
    "## Problem 2. Recovering the Hidden States\n",
    "You are given a sequence of observed states and an HMM. Recover the most likely sequence of hidden states. You are encouraged to implement the Viterbi algorithm here."
   ]
  },
  {
   "cell_type": "code",
   "execution_count": 7,
   "metadata": {},
   "outputs": [],
   "source": [
    "def recover_states(O, model):\n",
    "    \"\"\" Recovers the most likely sequence of hidden states given observations and a model\n",
    "    Args:\n",
    "      O: A list of observed states.\n",
    "      model: The HMM.\n",
    "    Returns: A list of hidden states\n",
    "    \"\"\"\n",
    "    deltas = np.zeros((len(O), model['A'].shape[0]))\n",
    "    prevstate = np.zeros((len(O), model['A'].shape[0]))\n",
    "\n",
    "    deltas[0] = model['pi'] * model['B'][:,O[0]]\n",
    "  \n",
    "    for i in range(1,len(O)):\n",
    "      toMax = deltas[i-1].reshape(-1,1) *  model['A']\n",
    "      prevstate[i] = np.argmax(toMax,axis = 0)\n",
    "      deltas[i] = np.amax(toMax,axis = 0) * model['B'][:,O[i]]\n",
    "    \n",
    "    toReturn = [np.argmax(deltas[-1])]\n",
    "    for j in range(len(O) - 1,0,-1):\n",
    "      toReturn.append(prevstate[j][int(toReturn[-1])])\n",
    "\n",
    "    return toReturn[::-1]"
   ]
  },
  {
   "cell_type": "markdown",
   "metadata": {},
   "source": [
    "### Run & Test\n",
    "Use the cell below to run and test `recover_states(O, model)`. "
   ]
  },
  {
   "cell_type": "code",
   "execution_count": 8,
   "metadata": {},
   "outputs": [
    {
     "name": "stdout",
     "output_type": "stream",
     "text": [
      "Running test 0.....\n",
      "Running test 1.....\n",
      "Running test 2.....\n"
     ]
    },
    {
     "data": {
      "text/html": [
       "<table><tr><td><h4>Test</h4><td><td><h4>% of States Uncovered</h4><td><td><h4>Random Guessing</h4><td><td><h4>Grade</h4><td></tr><tr><td><h4>0</h4><td><td><h4>40.8%</h4><td><td><h4>19.9%</h4><td><td><h4>10 / 10</h4><td></tr><tr><td><h4>1</h4><td><td><h4>18.6%</h4><td><td><h4>10.0%</h4><td><td><h4>10 / 10</h4><td></tr><tr><td><h4>2</h4><td><td><h4>11.8%</h4><td><td><h4>8.1%</h4><td><td><h4>10 / 10</h4><td></tr><tr><td><h4><i>👻 Hidden test 0 👻</i></h4><td><td><h4><i>???</i></h4><td><td><h4><i>???</i></h4><td><td><h4><i>???</i> / 10</h4><td></tr><tr><td><h4><i>👻 Hidden test 1 👻</i></h4><td><td><h4><i>???</i></h4><td><td><h4><i>???</i></h4><td><td><h4><i>???</i> / 10</h4><td></tr></table>"
      ],
      "text/plain": [
       "<IPython.core.display.HTML object>"
      ]
     },
     "metadata": {},
     "output_type": "display_data"
    }
   ],
   "source": [
    "if __name__ == '__main__':\n",
    "    def test_metadata(N, M, T):\n",
    "        \"\"\"\n",
    "        Args:\n",
    "          N: Number of hidden states.\n",
    "          M: Number of observable states.\n",
    "          T: Length of observable sequence.\n",
    "        \"\"\"\n",
    "        return {'N': N, 'M': M, 'T': T}\n",
    "    def random_guessing(T, M):\n",
    "        return [random.randint(0,M-1) for i in range(T)]\n",
    "    tests = [test_metadata(N=5, M=3, T=100), \n",
    "             test_metadata(N=10, M=3, T=200),\n",
    "             test_metadata(N=12, M=3, T=300)]  \n",
    "    output = [['Test', '% of States Uncovered', 'Random Guessing', 'Grade']]\n",
    "    for idx, test in enumerate(tests):\n",
    "        score = 0\n",
    "        rand_score = 0\n",
    "        print(\"Running test \" + str(idx) + \".....\")\n",
    "        for trial in range(100):\n",
    "            # 1. Generate model\n",
    "            pi = np.ones((test['N']))\n",
    "            pi = pi / pi.sum()\n",
    "            model = {'A': generate_matrix(test['N'], test['N'], idx),\n",
    "                     'B': generate_matrix(test['N'], test['M'], idx),\n",
    "                     'pi': pi}\n",
    "            # 2. Generate observations and hidden states\n",
    "            OBS = []\n",
    "            TRUE_STATES = []\n",
    "            for i in range(test['T']):\n",
    "                cur_h_state = 0\n",
    "                if(i == 0):\n",
    "                    cur_h_state = np.random.choice(np.arange(0, test['N']), p=model['pi'])\n",
    "                else:\n",
    "                    cur_h_state = np.random.choice(np.arange(0, test['N']), p=model['A'][int(cur_h_state)])\n",
    "                OBS.append(int(np.random.choice(np.arange(0, test['M']), p=model['B'][int(cur_h_state)])))\n",
    "                TRUE_STATES.append(int(cur_h_state))\n",
    "            # 3. Test viterbi\n",
    "            est_states = recover_states(OBS, model)\n",
    "            random_states = random_guessing(test['T'], test['M'])\n",
    "            # 4. Calculate score\n",
    "            count = sum(x == y for x, y in zip(np.array(TRUE_STATES), np.array(est_states)))\n",
    "            score = score + count / test['T']\n",
    "            rand_count = sum(x == y for x, y in zip(np.array(TRUE_STATES), np.array(random_states)))\n",
    "            rand_score = rand_score + rand_count / test['T']\n",
    "        grade = 10 if(score > rand_score) else 0\n",
    "        output.append([idx, '{:.1%}'.format(score / 100), '{:.1%}'.format(rand_score / 100), \"{:0.0f} / 10\".format(grade)])\n",
    "    output.append(['<i>👻 Hidden test 0 👻</i>','<i>???</i>', '<i>???</i>', '<i>???</i> / 10'])\n",
    "    output.append(['<i>👻 Hidden test 1 👻</i>','<i>???</i>', '<i>???</i>', '<i>???</i> / 10'])\n",
    "    display_table(output)"
   ]
  },
  {
   "cell_type": "markdown",
   "metadata": {},
   "source": [
    "---\n",
    "## Rubric\n",
    "Since HMM are probabilistic models, we will run your code many times and your grade should stabilize after many trials by the Law of Large Numbers. The script provided runs 50 trials to make testing more pleasant. The actual grading script will run more trials. **On Gradescope, we will display your total score, including hidden test cases. You can expect your final grade for this MP to match what you see after submission.**\n",
    "\n",
    "#### Determing the Best Model (50 points) \n",
    "You will be graded on the 3 sets of provided cases as well as 2 sets of hidden cases. 10 points will be rewarded if your algorithm performs better than random guessing. For example, if the test provides 5 models, your algorithm will receive full points if it outputs the correct model over 20% of the times.\n",
    "\n",
    "#### Recovering the Hidden States (50 points) \n",
    "You will be graded on the 3 sets of provided cases as well as 2 sets of hidden cases. 10 points will be rewarded if your algorithm recovered more states than random guessing."
   ]
  },
  {
   "cell_type": "markdown",
   "metadata": {},
   "source": [
    "---\n",
    "## Submission Guideline\n",
    "This Jupyter notebook is the only file you need to submit on Gradescope.\n",
    "\n",
    "**Make sure any code you added to this notebook, except for import statements, is either in a function or guarded by `__main__`(which won't be run by the autograder). Gradescope will give you immediate feedback using the provided test cases. It is your responsibility to check the output before the deadline to ensure your submission runs with the autograder.**"
   ]
  },
  {
   "cell_type": "code",
   "execution_count": null,
   "metadata": {},
   "outputs": [],
   "source": []
  }
 ],
 "metadata": {
  "kernelspec": {
   "display_name": "Python 3",
   "language": "python",
   "name": "python3"
  },
  "language_info": {
   "codemirror_mode": {
    "name": "ipython",
    "version": 3
   },
   "file_extension": ".py",
   "mimetype": "text/x-python",
   "name": "python",
   "nbconvert_exporter": "python",
   "pygments_lexer": "ipython3",
   "version": "3.9.19"
  }
 },
 "nbformat": 4,
 "nbformat_minor": 2
}
