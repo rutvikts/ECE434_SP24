{
 "cells": [
  {
   "cell_type": "markdown",
   "metadata": {},
   "source": [
    "# ECE/CS 434 | MP3: IMU PDR\n",
    "<br />\n",
    "<nav>\n",
    "    <span class=\"alert alert-block alert-warning\">Due at 11:59PM March 6th 2023 on Gradescope</span> |\n",
    "    <a href=\"https://courses.grainger.illinois.edu/cs434/sp2024/\">Course Website</a> | \n",
    "</nav><br> \n",
    "\n",
    "**Name:** Rutvik Sayankar<br>\n",
    "**NetID:** rutviks2\n",
    "\n",
    "<hr />  "
   ]
  },
  {
   "cell_type": "markdown",
   "metadata": {},
   "source": [
    "## Objective\n",
    "In this MP, you will:\n",
    "- Implement a step estimation algorithm using accelerometer data.\n",
    "- Apply signal processing and linear algebra functions such as low/high pass filtering, peak detection, fft, etc. to the step estimation algorithm. \n",
    "- Track phone orientation through a sequence of gyroscope data by performing integration.\n",
    "- Implement simple PDR algorithm: find the final position of the user using steps, orientations and initial position"
   ]
  },
  {
   "cell_type": "markdown",
   "metadata": {},
   "source": [
    "---\n",
    "## Problem Overview\n",
    "In pedestrian dead-reckoning applications, two pieces of information need to be tracked: how far a user walked, and the direction of the walk. In the first part of this MP, you will derive the final orientation using a sequence of gyroscope data. In the second part, you will write a step estimation algorithm using accelerometer data as input and use it to calculate the final position of the user. "
   ]
  },
  {
   "cell_type": "markdown",
   "metadata": {},
   "source": [
    "---\n",
    "## Imports & Setup\n",
    "\n",
    "### Installing requirements correctly\n",
    "\n",
    "First. we will make sure that the correct versions of required modules are installed. This ensures that your local Python environment is consistent with the one running on the Gradescope autograder. Just convert the following cell to code and run:\n",
    "\n",
    "<div class=\"alert alert-block alert-info\"><b>Note:</b> It's preferred that your local environment matches the autograder to prevent possible inconsistencies. However, if you're running into annoying Python version issues but haven't had any issues getting consistent results on the autograder, there is no need to stress over it. Just skip for now and come back when you do encounter inconsistencies:) Ditto below.\n",
    "</div>"
   ]
  },
  {
   "cell_type": "markdown",
   "metadata": {},
   "source": [
    "### Your imports\n",
    "Write your import statements below. If Gradescope reports an error and you believe it is due to an unsupported import, check with the TA to see if it could be added."
   ]
  },
  {
   "cell_type": "code",
   "execution_count": 1,
   "metadata": {},
   "outputs": [],
   "source": [
    "import numpy as np\n",
    "import pandas as pd\n",
    "from pathlib import Path\n",
    "import math\n",
    "\n",
    "# This function is used to format test results. You don't need to touch it.\n",
    "def display_table(data):\n",
    "    from IPython.display import HTML, display\n",
    "\n",
    "    html = \"<table>\"\n",
    "    for row in data:\n",
    "        html += \"<tr>\"\n",
    "        for field in row:\n",
    "            html += \"<td><h4>{}</h4><td>\".format(field)\n",
    "        html += \"</tr>\"\n",
    "    html += \"</table>\"\n",
    "    display(HTML(html))"
   ]
  },
  {
   "cell_type": "markdown",
   "metadata": {},
   "source": [
    "### Sanity-check\n",
    "\n",
    "Running the following code block verifies that the correct module versions are indeed being used. \n",
    "\n",
    "Try restarting the Python kernel (or Jupyter) if there is a mismatch even after intalling the correct version. This might happen because Python's `import` statement does not reload already-loaded modules even if they are updated."
   ]
  },
  {
   "cell_type": "code",
   "execution_count": 2,
   "metadata": {},
   "outputs": [
    {
     "data": {
      "text/html": [
       "<text style='color:#4caf50;weight:700;'>[✓] numpy version 1.21.3 is correct.</text>"
      ],
      "text/plain": [
       "<IPython.core.display.HTML object>"
      ]
     },
     "metadata": {},
     "output_type": "display_data"
    },
    {
     "data": {
      "text/html": [
       "<text style='color:#03a9f4;weight:700;'>[–] scikit-learn is not imported, skipping version check.</text>"
      ],
      "text/plain": [
       "<IPython.core.display.HTML object>"
      ]
     },
     "metadata": {},
     "output_type": "display_data"
    },
    {
     "data": {
      "text/html": [
       "<text style='color:#03a9f4;weight:700;'>[–] matplotlib is not imported, skipping version check.</text>"
      ],
      "text/plain": [
       "<IPython.core.display.HTML object>"
      ]
     },
     "metadata": {},
     "output_type": "display_data"
    },
    {
     "data": {
      "text/html": [
       "<text style='color:#03a9f4;weight:700;'>[–] scipy is not imported, skipping version check.</text>"
      ],
      "text/plain": [
       "<IPython.core.display.HTML object>"
      ]
     },
     "metadata": {},
     "output_type": "display_data"
    },
    {
     "data": {
      "text/html": [
       "<text style='color:#4caf50;weight:700;'>[✓] pandas version 1.4.1 is correct.</text>"
      ],
      "text/plain": [
       "<IPython.core.display.HTML object>"
      ]
     },
     "metadata": {},
     "output_type": "display_data"
    }
   ],
   "source": [
    "if __name__ == '__main__':\n",
    "    from IPython.display import display, HTML\n",
    "\n",
    "    def printc(text, color):\n",
    "        display(HTML(\"<text style='color:{};weight:700;'>{}</text>\".format(color, text)))\n",
    "\n",
    "    _requirements = [r.split(\"==\") for r in open(\n",
    "        \"requirements.txt\", \"r\").read().strip().split(\"\\n\")]\n",
    "\n",
    "    import sys\n",
    "    for (module, expected_version) in _requirements:\n",
    "        try:\n",
    "            if sys.modules[module].__version__ != expected_version:\n",
    "                printc(\"[✕] {} version should to be {}, but {} is installed.\".format(\n",
    "                    module, expected_version, sys.modules[module].__version__), \"#f44336\")\n",
    "            else:\n",
    "                printc(\"[✓] {} version {} is correct.\".format(\n",
    "                    module, expected_version), \"#4caf50\")\n",
    "        except:\n",
    "            printc(\"[–] {} is not imported, skipping version check.\".format(\n",
    "                module), \"#03a9f4\")"
   ]
  },
  {
   "cell_type": "markdown",
   "metadata": {},
   "source": [
    "---\n",
    "## Part 1. 3D Orientation Tracking\n",
    "\n",
    "Assume that phone is static and phone's local coordinate frame and global/world coordinate frame are aligned at the initial moment. Perform gyro integration for each timestamp onward to calculate the phone's orientation. We will provide you with a trace of gyroscope data in CSV format. There are three columns in the file, representing the gyroscope readings in three **local** axes (unit: $rad / s$). The gyroscope is sampled at 100Hz. Your task is to track the phone’s 3D orientation and **output the end direction in which the phone’s local X axis is pointing at in the global frame**.\n",
    "\n",
    "One way of solving this problem can be:\n",
    "\n",
    "- Assume the gyroscope’s sample interval is $\\Delta t$.\n",
    "- Get the phone's instant rotation axis and rotation angle in the local frame $(\\vec{l}, \\Delta \\theta)$ for each time stamp $t_{i},$ where:  \n",
    "    - $\\vec{l}=\\left(\\omega_{x}, \\omega_{v}, \\omega_{z}\\right)$ and $\\Delta \\theta=\\sqrt{\\left(\\omega_{x}^{2}+\\omega_{v}^{2}+\\omega_{z}^{2}\\right)} \\cdot \\Delta t$ \n",
    "- Project the instant rotation axis $\\vec{l}$ into the global frame using the phone's $3 \\mathrm{D}$ orientation matrix $R_{i}$ at time $t_{i}$.\n",
    "- Convert the instant rotation axis and angle in global frame into the form of rotation matrix $\\Delta R_{i}$.\n",
    "- Find the total 3D rotation matrix for time $t_{i+1}: R_{i+1}=\\Delta R_{i} \\cdot R_{i}$\n",
    "\n",
    "<ol type=\"A\">\n",
    "    <li> Assume the gyroscope’s sample interval is $\\Delta t$. </li>\n",
    "    <li> Get the phone's instant rotation axis and rotation angle in the local frame $(\\vec{l}, \\Delta \\theta)$ for each time stamp $t_{i},$ where $\\vec{l}=\\left(\\omega_{x}, \\omega_{v}, \\omega_{z}\\right)$ and $\\Delta \\theta=\\sqrt{\\left(\\omega_{x}^{2}+\\omega_{v}^{2}+\\omega_{z}^{2}\\right)} \\cdot \\Delta t$ </li>\n",
    "    <li> Project the instant rotation axis $\\vec{l}$ into the global frame using the phone's $3 \\mathrm{D}$ orientation matrix $R_{i}$ at time $t_{i}$. </li>\n",
    "    <li> Convert the instant rotation axis and angle in global frame into the form of rotation matrix $\\Delta R_{i}$. </li>\n",
    "    <li> Find the total 3D rotation matrix for time $t_{i+1}: R_{i+1}=\\Delta R_{i} \\cdot R_{i}$ </li>\n",
    "</ol>\n",
    "\n",
    "--- \n",
    "**Implement the above algorithm in `track_orientation(gyro_file)` below.** \n",
    "\n",
    "Do <b>NOT</b> change the function signature. You are, however, free to define and use helper functions."
   ]
  },
  {
   "cell_type": "code",
   "execution_count": 19,
   "metadata": {},
   "outputs": [],
   "source": [
    "# This function takes 1 argument:\n",
    "#     - gyro_file (string) - name of file containing a sequence of gyroscope data\n",
    "# It returns an array representing the final global direction\n",
    "# in which the phone's local X axis is pointing.\n",
    "def track_orientation(gyro_file):\n",
    "    # Your implementation starts here:\n",
    "\n",
    "    # Data sample rate = 100Hz\n",
    "    fs = 100\n",
    "\n",
    "    # Sample interval\n",
    "    ts = 1/fs\n",
    "\n",
    "    # Read .csv where data stored as cols with each col corresponding to readings of a local axis of the phone in rad/s.\n",
    "    gyro_data_df = pd.read_csv(gyro_file, header=None)\n",
    "\n",
    "    # Convert to np to do calculations with\n",
    "    gyro_data = gyro_data_df.to_numpy() \n",
    "\n",
    "    # Create iterative rotation matrix (starting at I, due to inital direction)\n",
    "    new_rotation = np.identity(3)\n",
    "\n",
    "    # Getting phone's instant rotation axis and angle\n",
    "    for i in range (gyro_data.shape[0]):\n",
    "        instant_rotation = new_rotation @ (gyro_data[i] * ts).T\n",
    "        theta = np.linalg.norm(instant_rotation)\n",
    "        instant_rotation = instant_rotation / theta\n",
    "\n",
    "        tempMat = np.zeros((3,3))\n",
    "        tempMat[0][1] = -1 * instant_rotation[2]\n",
    "        tempMat[0][2] = instant_rotation[1]\n",
    "        tempMat[1][0] = instant_rotation[2]\n",
    "        tempMat[1][2] = -1 * instant_rotation[0]\n",
    "        tempMat[2][0] = -1 * instant_rotation[1]\n",
    "        tempMat[2][1] = instant_rotation[0]\n",
    "        current_rotation = np.identity(3) + (tempMat * np.sin(theta)) + ((tempMat @ tempMat) * (1-np.cos(theta)))\n",
    "\n",
    "        new_rotation = current_rotation @ new_rotation\n",
    "        \n",
    "\n",
    "    # print(gyro_data_df.to_string())\n",
    "\n",
    "    return new_rotation.dot(np.array([1,0,0]).T)\n",
    "\n",
    "    # return [0.0, 0.0, 1.0]"
   ]
  },
  {
   "cell_type": "markdown",
   "metadata": {},
   "source": [
    "### Run & Test\n",
    "Use the cell below to run and test Part 1."
   ]
  },
  {
   "cell_type": "code",
   "execution_count": 20,
   "metadata": {},
   "outputs": [
    {
     "data": {
      "text/html": [
       "<table><tr><td><h4>Test</h4><td><td><h4>Dataset</h4><td><td><h4>Expected Output</h4><td><td><h4>Your Output</h4><td><td><h4>Deviation</h4><td><td><h4>Result</h4><td><td><h4>Grade</h4><td></tr><tr><td><h4>Final Orientation</h4><td><td><h4>gyro.csv</h4><td><td><h4>[-0.03729062, 0.98638029, -0.16019777]</h4><td><td><h4>[-0.03729113  0.98638175 -0.16018871]</h4><td><td><h4>0.00°</h4><td><td><h4>PASSED</h4><td><td><h4>10 / 10</h4><td></tr><tr><td><h4><i>👻 Hidden test 1 👻</i></h4><td><td><h4><i>???</i></h4><td><td><h4><i>???</i></h4><td><td><h4><i>???</i></h4><td><td><h4><i>???</i></h4><td><td><h4><i>???</i></h4><td><td><h4><i>???</i> / 10</h4><td></tr><tr><td><h4><i>...</i></h4><td><td><h4><i>...</i></h4><td><td><h4><i>...</i></h4><td><td><h4><i>...</i></h4><td><td><h4><i>...</i></h4><td><td><h4><i>...</i></h4><td><td><h4><i>...</i></h4><td></tr><tr><td><h4><i>👻 Hidden test 4 👻</i></h4><td><td><h4><i>???</i></h4><td><td><h4><i>???</i></h4><td><td><h4><i>???</i></h4><td><td><h4><i>???</i></h4><td><td><h4><i>???</i></h4><td><td><h4><i>???</i> / 10</h4><td></tr></table>"
      ],
      "text/plain": [
       "<IPython.core.display.HTML object>"
      ]
     },
     "metadata": {},
     "output_type": "display_data"
    }
   ],
   "source": [
    "def get_deviation(calculated, expected):\n",
    "    calculated = np.array(calculated)\n",
    "    expected = np.array(expected)\n",
    "    with np.errstate(divide='ignore', invalid='ignore'):\n",
    "        dot_prod = np.dot(calculated, expected) / \\\n",
    "            np.linalg.norm(calculated) / np.linalg.norm(expected)\n",
    "        return np.degrees(np.arccos(dot_prod))\n",
    "\n",
    "\n",
    "if __name__ == '__main__':\n",
    "    gt_final = [-0.03729062, 0.98638029, -0.16019777]\n",
    "    stu_final = track_orientation('orient_data/gyro.csv')\n",
    "    output = [['Test', 'Dataset', 'Expected Output',\n",
    "               'Your Output', 'Deviation', 'Result', 'Grade']]\n",
    "    final_state = 'FAILED'\n",
    "    final_grade = 0\n",
    "    final_dev = get_deviation(stu_final, gt_final)\n",
    "    if(final_dev < 2):\n",
    "        final_state = 'PASSED'\n",
    "        final_grade = 10\n",
    "    output.append(['Final Orientation', 'gyro.csv',\n",
    "                  gt_final, stu_final, \"{:2.2f}°\".format(final_dev), final_state, \"{} / 10\".format(final_grade)])\n",
    "    output.append(['<i>👻 Hidden test 1 👻</i>','<i>???</i>', '<i>???</i>', '<i>???</i>', '<i>???</i>', '<i>???</i>', '<i>???</i> / 10'])\n",
    "    output.append(['<i>...</i>', '<i>...</i>', '<i>...</i>', '<i>...</i>', '<i>...</i>', '<i>...</i>', '<i>...</i>'])\n",
    "    output.append(['<i>👻 Hidden test 4 👻</i>','<i>???</i>', '<i>???</i>', '<i>???</i>', '<i>???</i>', '<i>???</i>', '<i>???</i> / 10'])\n",
    "    display_table(output)"
   ]
  },
  {
   "cell_type": "markdown",
   "metadata": {},
   "source": [
    "---\n",
    "## Part 2. Step Estimation\n",
    "We have provided you with smartphone accelerometer data collected under three circumstances\n",
    "<ol type=\"A\">\n",
    "  <li>walking with phone in pant pocket</li>\n",
    "  <li>walking with phone held in the hand statically as if the user is looking at it while walking</li>\n",
    "  <li>walking with phone in hand and the hand swinging</li>\n",
    "</ol>\n",
    "\n",
    "there are three columns, representing the accelerometer readings in three local axes(unit: $m / s^{2}$). The accelerometer is sampled at 100Hz.\n",
    "\n",
    "Implement your algorithm in the `calculate_steps(accl_data)` and `calculate_final_position(steps_with_walking_direction, start_position)` functions below. Do NOT change the function signatures. You are, however, free to define and use helper functions. You are expected to use common signal processing and linear algebra functions (e.g., high/low pass filtering, convolution, cross correllation, peak detection, fft etc.) \n",
    "\n",
    "<b>TIP:</b> It may help to first visualize the accelerometer data like you did in MP1."
   ]
  },
  {
   "cell_type": "code",
   "execution_count": 5,
   "metadata": {},
   "outputs": [],
   "source": [
    "def get_step_length():\n",
    "    \"\"\"\n",
    "    step length is approximated to be proportional to the height of pedestrian\n",
    "    \"\"\"\n",
    "    height=1.75 # in meters\n",
    "    return 0.415*height\n",
    "\n",
    "\n",
    "def calculate_steps(accl_data):\n",
    "    \"\"\"\n",
    "    :param accel_data: pandas dataframe with 3 columns, \"x\", \"y\", \"z\" representing acceleration in m/s^2 \n",
    "    and index of dataframe is \"timestamp\"\n",
    "    \n",
    "    returns: pandas dataframe with 2 columns \"timestamp\" and \"steplength\" \n",
    "    \n",
    "    for this MP assume that the step length is same for each step, \n",
    "    use the get_step_length function to get the step length\n",
    "    \n",
    "    the timestamp is the time when the step is detected\n",
    "    \n",
    "    NOTE: timestamps should be among the values in the timestamp column, \n",
    "    you are not expected to do any time interpolation\n",
    "    \"\"\"\n",
    "    # replace the following dummy with your implementation\n",
    "    steps = pd.DataFrame({\"timestamp\": np.sort(np.random.choice(accl_data.index, 10, replace=False)).tolist(), \n",
    "                          \"steplength\": get_step_length()})\n",
    "    return steps\n",
    "\n",
    "def calculate_final_position(steps_with_walking_direction, start_position):\n",
    "    \"\"\" \n",
    "    :param steps_with_walking_direction: pandas dataframe with 3 columns \"timestamp\", \"steplength\", and \"walking_direction\"\n",
    "    \n",
    "    walking_direction is an angle in degrees with global frame x-axis. It can be from 0 degrees to 360 degrees.\n",
    "    for e.g. if walking direction is 90 degrees, user is walking in the positive y-axis direction\n",
    "    \n",
    "    NOTE: In the given test cases, the walking direction is same through out the trajectory \n",
    "    but in hidden cases the walking direction may change\n",
    "    \n",
    "    step_length is in meters\n",
    "    \n",
    "    :param start_position: starting position of the user. It is tuple (x,y)\n",
    "    \n",
    "    return (x,y) coordinate of the final position in meters\n",
    "    \"\"\"\n",
    "    return (0.0, 0.0)"
   ]
  },
  {
   "cell_type": "markdown",
   "metadata": {},
   "source": [
    "### Run & Test\n",
    "Use the cell below to run and test `calculate_steps(accl_data)` and `calculate_final_position(steps_with_walking_direction, start_position)`. "
   ]
  },
  {
   "cell_type": "code",
   "execution_count": 6,
   "metadata": {},
   "outputs": [
    {
     "data": {
      "text/html": [
       "<table><tr><td><h4>Dataset</h4><td><td><h4>Expected Number Steps</h4><td><td><h4>Your Number of Steps</h4><td><td><h4>Expected Final Position</h4><td><td><h4>Your Final Position</h4><td><td><h4>Grade</h4><td></tr><tr><td><h4>holdstatic_20steps.csv</h4><td><td><h4>20</h4><td><td><h4>10</h4><td><td><h4>(12.58, 7.26)</h4><td><td><h4>(0.0, 0.0)</h4><td><td><h4>2.10 / 5.00</h4><td></tr><tr><td><h4>inpocket_26steps.csv</h4><td><td><h4>26</h4><td><td><h4>10</h4><td><td><h4>(18.88, 0.0)</h4><td><td><h4>(0.0, 0.0)</h4><td><td><h4>1.62 / 5.00</h4><td></tr><tr><td><h4>inpocket_36steps.csv</h4><td><td><h4>36</h4><td><td><h4>10</h4><td><td><h4>(0.0, 26.14)</h4><td><td><h4>(0.0, 0.0)</h4><td><td><h4>1.17 / 5.00</h4><td></tr><tr><td><h4>swing_32steps.csv</h4><td><td><h4>32</h4><td><td><h4>10</h4><td><td><h4>(-23.24, 0.0)</h4><td><td><h4>(0.0, 0.0)</h4><td><td><h4>1.31 / 5.00</h4><td></tr><tr><td><h4>swing_38steps.csv</h4><td><td><h4>38</h4><td><td><h4>10</h4><td><td><h4>(0.0, -27.6)</h4><td><td><h4>(0.0, 0.0)</h4><td><td><h4>1.11 / 5.00</h4><td></tr><tr><td><h4><i>👻 Hidden test 1 👻</i></h4><td><td><h4><i>???</i></h4><td><td><h4><i>???</i></h4><td><td><h4><i>???</i></h4><td><td><h4><i>???</i></h4><td><td><h4><i>???</i> / 15.00</h4><td></tr><tr><td><h4><i>...</i></h4><td><td><h4><i>...</i></h4><td><td><h4><i>...</i></h4><td><td><h4><i>...</i></h4><td><td><h4><i>...</i></h4><td><td><h4><i>...</i></h4><td></tr><tr><td><h4><i>👻 Hidden test 5 👻</i></h4><td><td><h4><i>???</i></h4><td><td><h4><i>???</i></h4><td><td><h4><i>???</i></h4><td><td><h4><i>???</i></h4><td><td><h4><i>???</i> / 15.00</h4><td></tr></table>"
      ],
      "text/plain": [
       "<IPython.core.display.HTML object>"
      ]
     },
     "metadata": {},
     "output_type": "display_data"
    }
   ],
   "source": [
    "def estimate_steps_score(calculated, expected):\n",
    "    delta = abs(calculated - expected)\n",
    "    return 1 if(delta <= 2) else max((1 - abs(delta - 2) / expected), 0)\n",
    "\n",
    "def estimate_pdr_score(calculated, expected):\n",
    "    error = math.sqrt((calculated[0] - expected[0])**2 + (calculated[1] - expected[1])**2)\n",
    "    # error more than 5 meters, score is 0\n",
    "    return 1.0 if (error <= 2.0) else max(0, 1-(error-2.0)/3)\n",
    "\n",
    "\n",
    "if __name__ == '__main__':\n",
    "    data_dir = \"accel_data\"\n",
    "    walk_accl_files = ['holdstatic_20steps.csv', 'inpocket_26steps.csv',\n",
    "                       'inpocket_36steps.csv', 'swing_32steps.csv', 'swing_38steps.csv']\n",
    "    groundtruth_numsteps = [20, 26, 36, 32, 38]\n",
    "    groundtruth_final_positions = [(12.58, 7.26), (18.88, 0.0), (0.0, 26.14), (-23.24, 0.0), (0.0, -27.6)]\n",
    "    output = [['Dataset', 'Expected Number Steps', 'Your Number of Steps', 'Expected Final Position', 'Your Final Position', 'Grade']]\n",
    "    for i in range(len(groundtruth_numsteps)):\n",
    "        accel_data = pd.read_csv(str(Path(data_dir) / walk_accl_files[i]))\n",
    "        accel_data = accel_data.set_index(\"timestamp\", drop=True)\n",
    "        calculated = calculate_steps(accel_data)\n",
    "        assert len(calculated.columns)==2\n",
    "        assert \"timestamp\" in calculated.columns\n",
    "        assert \"steplength\" in calculated.columns\n",
    "        calculated_num_steps = calculated.shape[0]\n",
    "        calculated[\"walking_direction\"] = accel_data[\"walking_direction\"][calculated[\"timestamp\"]].values\n",
    "        calculated_final_position = calculate_final_position(calculated, (0.0,0.0))\n",
    "        steps_score = estimate_steps_score(calculated_num_steps, groundtruth_numsteps[i])\n",
    "        pdr_score = estimate_pdr_score(calculated_final_position, groundtruth_final_positions[i])\n",
    "        # final score is weighted sum of both scores\n",
    "        score = 0.7*steps_score + 0.3*pdr_score\n",
    "        output.append([walk_accl_files[i], groundtruth_numsteps[i],\n",
    "                      calculated_num_steps, groundtruth_final_positions[i], calculated_final_position,  \"{:2.2f} / 5.00\".format(score * 5)])\n",
    "    output.append(['<i>👻 Hidden test 1 👻</i>','<i>???</i>', '<i>???</i>','<i>???</i>', '<i>???</i>', '<i>???</i> / 15.00'])\n",
    "    output.append(['<i>...</i>', '<i>...</i>', '<i>...</i>', '<i>...</i>', '<i>...</i>', '<i>...</i>'])\n",
    "    output.append(['<i>👻 Hidden test 5 👻</i>','<i>???</i>', '<i>???</i>','<i>???</i>', '<i>???</i>', '<i>???</i> / 15.00'])\n",
    "    display_table(output)"
   ]
  },
  {
   "cell_type": "markdown",
   "metadata": {},
   "source": [
    "---\n",
    "## Rubric\n",
    "\n",
    "####  Orientation Tracking (100 points) \n",
    "You will be graded on the provided data as well as 4 addition sets of data. They are each worth 20 points. A 2-degree error is tolerated. For results greater than the error threshold, no points will be rewarded since we provided a detailed algorithm to follow. The test data also include the simple case where the phone will only rotate along Z axis onwards. (In case you find the MP too difficult, only doing 1D integration on Z axis should at least give you some points.)\n",
    "\n",
    "#### Step Estimation (100 points) \n",
    "You will be graded on the 5 sets of provided data (5 points each), as well as 5 sets of hidden data (15 points each). For each test case, the grade depends on how much the result deviates from the groudtruth. A 2-step error for the provided data is tolerated. A 4-step error for the hidden data is tolerated. For results greater than the error threshold, your score will be scaled proportionally. The score is the weighted sum of PDR error i.e., deviation from the final position and the step count detection accuracy."
   ]
  },
  {
   "cell_type": "markdown",
   "metadata": {},
   "source": [
    "---\n",
    "## Submission Guideline\n",
    "This Jupyter notebook is the only file you need to submit on Gradescope. Make sure to fill your name at the top of this file.\n",
    "\n",
    "**Make sure any code you added to this notebook, except for import statements, is either in a function or guarded by `__main__`(which won't be run by the autograder). Gradescope will give you immediate feedback using the provided test cases. It is your responsibility to check the output before the deadline to ensure your submission runs with the autograder.**"
   ]
  }
 ],
 "metadata": {
  "kernelspec": {
   "display_name": "Python 3 (ipykernel)",
   "language": "python",
   "name": "python3"
  },
  "language_info": {
   "codemirror_mode": {
    "name": "ipython",
    "version": 3
   },
   "file_extension": ".py",
   "mimetype": "text/x-python",
   "name": "python",
   "nbconvert_exporter": "python",
   "pygments_lexer": "ipython3",
   "version": "3.9.18"
  }
 },
 "nbformat": 4,
 "nbformat_minor": 4
}
